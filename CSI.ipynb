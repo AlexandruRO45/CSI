{
 "cells": [
  {
   "cell_type": "markdown",
   "metadata": {},
   "source": []
  },
  {
   "cell_type": "code",
   "execution_count": 1,
   "metadata": {},
   "outputs": [
    {
     "name": "stdout",
     "output_type": "stream",
     "text": [
      "Error Rate: 6.25\n"
     ]
    }
   ],
   "source": [
    "import pandas as pd\n",
    "import numpy as np\n",
    "\n",
    "# Load data\n",
    "train_data = pd.read_csv(\"training-part-2.csv\")\n",
    "test_data = pd.read_csv(\"test-part-2.csv\")\n",
    "\n",
    "# Extract features and labels\n",
    "X_train = train_data.iloc[:, :-1]\n",
    "y_train = train_data.iloc[:, -1]\n",
    "X_test = test_data.iloc[:, :-1]\n",
    "y_test = test_data.iloc[:, -1]\n",
    "\n",
    "# Calculate Class Prior Probabilities\n",
    "prior_smile = np.sum(y_train == 'smile') / len(y_train)\n",
    "prior_frown = np.sum(y_train == 'frown') / len(y_train)\n",
    "\n",
    "# Calculate Class Means\n",
    "mean_smile = X_train[y_train == 'smile'].mean()\n",
    "mean_frown = X_train[y_train == 'frown'].mean()\n",
    "\n",
    "# Calculate Class Covariance Matrices\n",
    "cov_smile = np.cov(X_train[y_train == 'smile'].T)\n",
    "cov_frown = np.cov(X_train[y_train == 'frown'].T)\n",
    "\n",
    "# Gaussian Discriminant Function\n",
    "def gaussian_discriminant_function(x, mean, cov, prior):\n",
    "    exponent = -0.5 * np.dot(np.dot((x - mean).T, np.linalg.inv(cov)), (x - mean))\n",
    "    return exponent - 0.5 * np.log(np.linalg.det(cov)) + np.log(prior)\n",
    "\n",
    "# Classify Test Set\n",
    "predictions = []\n",
    "for i in range(len(X_test)):\n",
    "    x = X_test.iloc[i, :]\n",
    "    g_smile = gaussian_discriminant_function(x, mean_smile, cov_smile, prior_smile)\n",
    "    g_frown = gaussian_discriminant_function(x, mean_frown, cov_frown, prior_frown)\n",
    "\n",
    "    predicted_class = 'smile' if g_smile > g_frown else 'frown'\n",
    "    predictions.append(predicted_class)\n",
    "\n",
    "# Evaluate\n",
    "misclassifications = np.sum(predictions != y_test)\n",
    "error_rate = (misclassifications / len(y_test))*100\n",
    "print(\"Error Rate:\", error_rate)"
   ]
  }
 ],
 "metadata": {
  "kernelspec": {
   "display_name": "base",
   "language": "python",
   "name": "python3"
  },
  "language_info": {
   "codemirror_mode": {
    "name": "ipython",
    "version": 3
   },
   "file_extension": ".py",
   "mimetype": "text/x-python",
   "name": "python",
   "nbconvert_exporter": "python",
   "pygments_lexer": "ipython3",
   "version": "3.11.5"
  }
 },
 "nbformat": 4,
 "nbformat_minor": 2
}
